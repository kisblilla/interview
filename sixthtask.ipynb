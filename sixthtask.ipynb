{
 "cells": [
  {
   "cell_type": "code",
   "execution_count": null,
   "metadata": {},
   "outputs": [],
   "source": [
    "def chocolateFeast(money,price, wrap):\n",
    "    if money== 1 or money == 0 or money < wrap:\n",
    "        return 0\n",
    "    else:\n",
    "        return money//wrap + chocolateFeast(money//wrap + money%wrap, price, wrap)\n",
    "\n",
    "def main(money,price,wrap):\n",
    "    result = money//price + chocolateFeast(money//price, price, wrap)\n",
    "    return(result)\n",
    "\n",
    "# Test\n",
    "assert main(10,3,2)==5    \n",
    "assert main(20,2,2)==19\n",
    "assert main(16,2,2)==15\n",
    "print(\"OK\")"
   ]
  }
 ],
 "metadata": {
  "language_info": {
   "name": "python"
  },
  "orig_nbformat": 4
 },
 "nbformat": 4,
 "nbformat_minor": 2
}
