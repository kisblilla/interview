{
 "cells": [
  {
   "cell_type": "code",
   "execution_count": null,
   "metadata": {},
   "outputs": [],
   "source": [
    "import numpy as np\n",
    "\n",
    "def chessboard_matrix(n):\n",
    "    print(\"Checkerboard pattern:\")\n",
    "    x = np.ones((n,n),dtype=int)\n",
    "    x[1::2,::2] = -1\n",
    "    x[::2,1::2] = -1\n",
    "    return x\n",
    "\n",
    "\n",
    "# test\n",
    "A=np.array([[1, -1, 1],[-1, 1, -1],[1, -1, 1]])\n",
    "assert chessboard_matrix(3).all()==A.all()\n",
    "print(\"OK\")\n"
   ]
  }
 ],
 "metadata": {
  "language_info": {
   "name": "python"
  },
  "orig_nbformat": 4
 },
 "nbformat": 4,
 "nbformat_minor": 2
}
