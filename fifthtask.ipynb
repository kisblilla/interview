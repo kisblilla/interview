{
 "cells": [
  {
   "cell_type": "code",
   "execution_count": null,
   "metadata": {},
   "outputs": [],
   "source": [
    "import numpy as np\n",
    "from scipy.linalg import block_diag\n",
    "\n",
    "def block_matrix_maker(list_of_matrices):\n",
    "    P = np.zeros((2, 0), dtype='int32')\n",
    "    D=[list_of_matrices]\n",
    "    return block_diag(*list_of_matrices)\n",
    "\n",
    "\n",
    "print(block_matrix_maker([[[1, 0, 3 ],[0, 1, 3], [2, 3, 1]], [[3, 3, 4], [6, 7, 9 ], [2,1,4]], [2,3], [1,2]]))"
   ]
  }
 ],
 "metadata": {
  "language_info": {
   "name": "python"
  },
  "orig_nbformat": 4
 },
 "nbformat": 4,
 "nbformat_minor": 2
}
