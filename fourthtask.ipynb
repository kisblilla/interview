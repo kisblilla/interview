{
 "cells": [
  {
   "cell_type": "code",
   "execution_count": null,
   "metadata": {},
   "outputs": [],
   "source": [
    "import numpy as np\n",
    "\n",
    "def eucledian(twoD_vector):\n",
    "\n",
    "    return (np.sum(np.abs(twoD_vector) ** 2, axis = -1) ** (1 / 2)).round(decimals=3)\n",
    "\n",
    "# Test\n",
    "A=np.array([3.162, 5.831, 4.583])\n",
    "B=np.array([3.162, 1.732, 4.583])\n",
    "C=np.array([1, 1, 1, 1])\n",
    "assert eucledian([[1,0,3], [3,4,3], [2,4,1]]).all()==A.all()\n",
    "assert eucledian([[1,0,3], [1,1,1], [2,4,1]]).all()==B.all()\n",
    "assert(eucledian([[1], [-1], [1], [-1]])).all()==C.all()\n",
    "print(\"OK\")"
   ]
  }
 ],
 "metadata": {
  "language_info": {
   "name": "python"
  },
  "orig_nbformat": 4
 },
 "nbformat": 4,
 "nbformat_minor": 2
}
